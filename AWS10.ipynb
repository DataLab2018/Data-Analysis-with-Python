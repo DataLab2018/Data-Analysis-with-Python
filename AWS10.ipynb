{
 "cells": [
  {
   "cell_type": "code",
   "execution_count": 1,
   "metadata": {
    "collapsed": true
   },
   "outputs": [],
   "source": [
    "from scipy.stats import norm, t"
   ]
  },
  {
   "cell_type": "markdown",
   "metadata": {},
   "source": [
    "## Cruise Ship Rating Example\n",
    "\n",
    "Condé Nast Traveler conducts an annual survey in which readers rate their favorite cruise ship. All ships are rated on a 100-point scale, with higher values indicating better service. A sample of 37 ships that carry fewer than 500 passengers resulted in an average rating of 85.36, and a sample of 44 ships that carry 500 or more passengers provided an average rating of 81.40. Assume that the population standard deviation is 4.55 for ships that carry fewer than 500 passengers and 3.97 for ships that carry 500 or more passengers.\n",
    "\n",
    "a. What is the point estimate of the difference between the population mean rating for ships that carry fewer than 500 passengers and the population mean rating for ships that carry 500 or more passengers?\n",
    "\n",
    "b. At 95% confidence, what is the margin of error?\n",
    "\n",
    "c. What is a 95% confidence interval estimate of the difference between the population mean ratings for the two sizes of ships?\n",
    "\n",
    "d. (New Questions) Test whether small cruise ships have better rating than large cruise ships at 1% level of significance."
   ]
  },
  {
   "cell_type": "markdown",
   "metadata": {},
   "source": [
    "#### population 1: ships that carry fewer than 500 passengers\n",
    "$\\bar{X}_1$ = 85.36, n1 = 37, $\\sigma_1$ = 4.55\n",
    "\n",
    "#### population 2: ships that carry more than 500 passengers\n",
    "$\\bar{X}_2$ = 81.40, n2 = 44, $\\sigma_2$ = 3.97"
   ]
  },
  {
   "cell_type": "code",
   "execution_count": 2,
   "metadata": {
    "collapsed": true
   },
   "outputs": [],
   "source": [
    "x1 = 85.36; n1 = 37; sigma1 = 4.55; x2 = 81.40; n2 = 44; sigma2 = 3.97; CL = 0.95; alpha = 0.01"
   ]
  },
  {
   "cell_type": "code",
   "execution_count": 3,
   "metadata": {},
   "outputs": [
    {
     "data": {
      "text/plain": [
       "3.9599999999999937"
      ]
     },
     "execution_count": 3,
     "metadata": {},
     "output_type": "execute_result"
    }
   ],
   "source": [
    "# a: What is the point estimate of the difference between the population mean ratings?\n",
    "\n",
    "x1 - x2"
   ]
  },
  {
   "cell_type": "code",
   "execution_count": 4,
   "metadata": {},
   "outputs": [
    {
     "name": "stdout",
     "output_type": "stream",
     "text": [
      "0.957981889053389\n"
     ]
    }
   ],
   "source": [
    "# b: At 95% confidence, what is the margin of error?\n",
    "\n",
    "se_2means = lambda s1, s2, n1, n2: pow(s1*s1/n1 + s2*s2/n2, 0.5)\n",
    "SE = se_2means(sigma1, sigma2, n1, n2)\n",
    "\n",
    "print(SE)"
   ]
  },
  {
   "cell_type": "code",
   "execution_count": 5,
   "metadata": {},
   "outputs": [
    {
     "name": "stdout",
     "output_type": "stream",
     "text": [
      "1.95996398454\n"
     ]
    }
   ],
   "source": [
    "crit_z = norm.ppf(0.5 + CL/2)\n",
    "print(crit_z)"
   ]
  },
  {
   "cell_type": "code",
   "execution_count": 6,
   "metadata": {},
   "outputs": [
    {
     "name": "stdout",
     "output_type": "stream",
     "text": [
      "1.87761000039\n"
     ]
    }
   ],
   "source": [
    "MOE = crit_z*SE\n",
    "print(MOE)"
   ]
  },
  {
   "cell_type": "code",
   "execution_count": 7,
   "metadata": {},
   "outputs": [
    {
     "data": {
      "text/plain": [
       "[2.0823899996137056, 5.8376100003862819]"
      ]
     },
     "execution_count": 7,
     "metadata": {},
     "output_type": "execute_result"
    }
   ],
   "source": [
    "# c: What is a 95% confidence interval estimate of the difference between the population mean ratings?\n",
    "[x1-x2 - MOE, x1-x2 +MOE]"
   ]
  },
  {
   "cell_type": "markdown",
   "metadata": {},
   "source": [
    "#### Suppose we want to test whether small cruise ships have better rating than large cruise ships.\n",
    "$H_0: \\mu_1 - \\mu_2 \\leq 0$\n",
    "\n",
    "$H_1: \\mu_1 - \\mu_2 > 0$"
   ]
  },
  {
   "cell_type": "code",
   "execution_count": 8,
   "metadata": {},
   "outputs": [
    {
     "name": "stdout",
     "output_type": "stream",
     "text": [
      "4.13368983824213 1.78492582694e-05\n"
     ]
    }
   ],
   "source": [
    "z = (x1-x2)/SE\n",
    "p_value = 1 - norm.cdf(z)\n",
    "print(z, p_value)"
   ]
  },
  {
   "cell_type": "markdown",
   "metadata": {},
   "source": [
    "## Commute Distance Example\n",
    "The U.S. Department of Transportation provides the number of miles that residents of the 75 largest metropolitan areas travel per day in a car. Suppose that for a simple random sample of 50 Buffalo residents the mean is 22.5 miles a day and the standard deviation is 8.4 miles a day, and for an independent simple random sample of 40 Boston residents the mean is 18.6 miles a day and the standard deviation is 7.4 miles a day.\n",
    "\n",
    "a. What is the point estimate of the difference between the mean number of miles that Buffalo residents travel per day and the mean number of miles that Boston residents travel per day?\n",
    "\n",
    "b. What is the 95% confidence interval for the difference between the two population means?"
   ]
  },
  {
   "cell_type": "code",
   "execution_count": 9,
   "metadata": {
    "collapsed": true
   },
   "outputs": [],
   "source": [
    "x1 = 22.5; n1 = 50; s1 = 8.4; x2 = 18.6; n2 = 40; s2 = 7.4; CL = 0.95"
   ]
  },
  {
   "cell_type": "code",
   "execution_count": 10,
   "metadata": {},
   "outputs": [
    {
     "name": "stdout",
     "output_type": "stream",
     "text": [
      "3.8999999999999986\n"
     ]
    }
   ],
   "source": [
    "# a: What is the point estimate of the difference?\n",
    "\n",
    "print(x1 - x2)"
   ]
  },
  {
   "cell_type": "code",
   "execution_count": 11,
   "metadata": {},
   "outputs": [
    {
     "name": "stdout",
     "output_type": "stream",
     "text": [
      "1.6673931749890307\n"
     ]
    }
   ],
   "source": [
    "# b: What is the 95% confidence interval for the difference between the two population means?\n",
    "\n",
    "SE = se_2means(s1, s2, n1, n2)\n",
    "print(SE)"
   ]
  },
  {
   "cell_type": "code",
   "execution_count": 12,
   "metadata": {},
   "outputs": [
    {
     "name": "stdout",
     "output_type": "stream",
     "text": [
      "87.14418174007069\n"
     ]
    }
   ],
   "source": [
    "df_2means = lambda s1, s2, n1, n2: ((s1**2/n1 + s2**2/n2)**2)/((s1**2/n1)**2/(n1-1) + (s2**2/n2)**2/(n2-1))\n",
    "df = df_2means(s1, s2, n1, n2)\n",
    "print(df)"
   ]
  },
  {
   "cell_type": "code",
   "execution_count": 13,
   "metadata": {},
   "outputs": [
    {
     "name": "stdout",
     "output_type": "stream",
     "text": [
      "1.98756191451 3.31404717113\n",
      "[0.58595282887375699, 7.2140471711262402]\n"
     ]
    }
   ],
   "source": [
    "t_val = t.ppf((1 + CL)/2, df)\n",
    "MOE = t_val*SE\n",
    "\n",
    "print(t_val, MOE)\n",
    "print([x1-x2 - MOE, x1-x2 +MOE])"
   ]
  },
  {
   "cell_type": "code",
   "execution_count": 14,
   "metadata": {},
   "outputs": [
    {
     "data": {
      "text/plain": [
       "1371.1309200802089"
      ]
     },
     "execution_count": 14,
     "metadata": {},
     "output_type": "execute_result"
    }
   ],
   "source": [
    "se_2means(6000, 7000, 40, 50)"
   ]
  },
  {
   "cell_type": "code",
   "execution_count": 15,
   "metadata": {},
   "outputs": [
    {
     "data": {
      "text/plain": [
       "-2.40677235971526"
      ]
     },
     "execution_count": 15,
     "metadata": {},
     "output_type": "execute_result"
    }
   ],
   "source": [
    "(56100-59400)/1371.1309200802089"
   ]
  },
  {
   "cell_type": "code",
   "execution_count": 16,
   "metadata": {},
   "outputs": [
    {
     "data": {
      "text/plain": [
       "87.55182926829268"
      ]
     },
     "execution_count": 16,
     "metadata": {},
     "output_type": "execute_result"
    }
   ],
   "source": [
    "df_2means(6000, 7000, 40, 50)"
   ]
  },
  {
   "cell_type": "markdown",
   "metadata": {},
   "source": [
    "## PGA 6-foot Putt Example\n",
    "The Professional Golf Association (PGA) measured the putting accuracy of professional golfers playing on the PGA Tour and the best amateur golfers playing in the World Amateur Championship (Golf Magazine, January 2007). A sample of 1075 6-foot putts by professional golfers found 688 made puts. A sample of 1200 6-foot putts by amateur golfers found 696 made putts.\n",
    "\n",
    "a. Estimate the proportion of made 6-foot putts by professional golfers. Estimate the proportion of made 6-foot putts by amateur golfers. Which group had a better putting accuracy?\n",
    "\n",
    "b. What is the point estimate of the difference between the proportions of the two populations? What does this estimate tell you about the percentage of putts made by the two groups of golfers?\n",
    "\n",
    "c. What is the 95% confidence interval for the difference between the two population proportions? Interpret his confidence interval in terms of the percentage of putts made by the two groups of golfers.\n",
    "\n",
    "d. (New Question) Test whether pros are significantly better than amateurs in putting accuracy (alpha = 0.05).\n"
   ]
  },
  {
   "cell_type": "code",
   "execution_count": 40,
   "metadata": {},
   "outputs": [
    {
     "name": "stdout",
     "output_type": "stream",
     "text": [
      "0.64 0.58\n"
     ]
    }
   ],
   "source": [
    "# a: Estimate the proportion of made 6-foot putts by professional golfers. \n",
    "# Estimate the proportion of made 6-foot putts by amateur golfers. Which group had a better putting accuracy?\n",
    "\n",
    "p1 = 688./1075; n1 = 1075; p2 = 696./1200; n2 = 1200; CL = 0.95; alpha = 0.05\n",
    "print(p1, p2)"
   ]
  },
  {
   "cell_type": "code",
   "execution_count": 41,
   "metadata": {},
   "outputs": [
    {
     "name": "stdout",
     "output_type": "stream",
     "text": [
      "0.06000000000000005\n"
     ]
    }
   ],
   "source": [
    "# b: What is the point estimate of the difference between the proportions of the two populations? \n",
    "# What does this estimate tell you about the percentage of putts made by the two groups of golfers?\n",
    "\n",
    "print(p1-p2)"
   ]
  },
  {
   "cell_type": "code",
   "execution_count": 42,
   "metadata": {},
   "outputs": [
    {
     "name": "stdout",
     "output_type": "stream",
     "text": [
      "0.020428548195976844\n"
     ]
    }
   ],
   "source": [
    "# c: What is the 95% confidence interval for the difference between the two population proportions? \n",
    "# Interpret his confidence interval in terms of the percentage of putts made by the two groups of golfers.\n",
    "\n",
    "se_2proportions_ci = lambda p1, p2, n1, n2: pow(p1*(1-p1)/n1 + p2*(1-p2)/n2, 0.5)\n",
    "\n",
    "SE = se_2proportions_ci(p1, p2, n1, n2)\n",
    "print(SE)"
   ]
  },
  {
   "cell_type": "code",
   "execution_count": 43,
   "metadata": {},
   "outputs": [
    {
     "name": "stdout",
     "output_type": "stream",
     "text": [
      "1.95996398454 0.0400392187206\n",
      "[0.019960781279444749, 0.10003921872055535]\n"
     ]
    }
   ],
   "source": [
    "z = norm.ppf(0.5 + CL/2)\n",
    "MOE = z*SE\n",
    "print (z, MOE)\n",
    "print([p1-p2 - MOE, p1-p2+MOE])"
   ]
  },
  {
   "cell_type": "code",
   "execution_count": 44,
   "metadata": {},
   "outputs": [
    {
     "name": "stdout",
     "output_type": "stream",
     "text": [
      "0.020498465033880177\n"
     ]
    }
   ],
   "source": [
    "# d: Test whether pros are significantly better than amateurs in putting accuracy (alpha = 0.05).\n",
    "\n",
    "# H0: p1 <= p2; Ha: p1 > p2\n",
    "\n",
    "# Compute SE\n",
    "pbar = lambda p1, p2, n1, n2: (n1*p1 + n2*p2)/(n1 + n2)\n",
    "se_2proportions_ht = lambda p1, p2, n1, n2: pow(pbar(p1, p2, n1, n2)*(1-pbar(p1, p2, n1, n2))*(1/n1 + 1/n2), 0.5)\n",
    "\n",
    "SE = se_2proportions_ht(p1, p2, n1, n2)\n",
    "print(SE)\n"
   ]
  },
  {
   "cell_type": "code",
   "execution_count": 45,
   "metadata": {},
   "outputs": [
    {
     "name": "stdout",
     "output_type": "stream",
     "text": [
      "2.927048435130686 0.00171097792167\n"
     ]
    }
   ],
   "source": [
    "z = (p1 - p2)/SE\n",
    "p_val = 1 - norm.cdf(z)\n",
    "print(z, p_val)"
   ]
  },
  {
   "cell_type": "code",
   "execution_count": null,
   "metadata": {
    "collapsed": true
   },
   "outputs": [],
   "source": []
  }
 ],
 "metadata": {
  "anaconda-cloud": {},
  "kernelspec": {
   "display_name": "Python 3",
   "language": "python",
   "name": "python3"
  },
  "language_info": {
   "codemirror_mode": {
    "name": "ipython",
    "version": 3
   },
   "file_extension": ".py",
   "mimetype": "text/x-python",
   "name": "python",
   "nbconvert_exporter": "python",
   "pygments_lexer": "ipython3",
   "version": "3.6.4"
  }
 },
 "nbformat": 4,
 "nbformat_minor": 1
}
