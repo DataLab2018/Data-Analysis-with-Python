{
 "cells": [
  {
   "cell_type": "code",
   "execution_count": 7,
   "metadata": {
    "collapsed": true
   },
   "outputs": [],
   "source": [
    "from scipy.stats import binom, poisson, norm, expon"
   ]
  },
  {
   "cell_type": "markdown",
   "metadata": {},
   "source": [
    "### Problem 1 (Problem 39 on page 251)\n",
    "Market-share-analysis company Net Applications monitors and reports on Internet browser usage. According to Net Applications, in the summer of 2014, google’s Chrome browser exceeded a 20% market share for the first time, with a 20.37% share of the browser market (Forbes website, December 15, 2014). for a randomly selected group of 20 Internet browser users, answer the following questions. (5 points)"
   ]
  },
  {
   "cell_type": "code",
   "execution_count": 5,
   "metadata": {},
   "outputs": [
    {
     "data": {
      "text/plain": [
       "<scipy.stats._distn_infrastructure.rv_frozen at 0x166b81425c0>"
      ]
     },
     "execution_count": 5,
     "metadata": {},
     "output_type": "execute_result"
    }
   ],
   "source": [
    "# Question a: Compute the probability that exactly 8 of the 20 Internet browser users use Chrome as their Internet browser.\n",
    "from scipy.stats import binom, poisson, norm, expon\n",
    "binom(8,0.2037,20)"
   ]
  },
  {
   "cell_type": "code",
   "execution_count": 4,
   "metadata": {},
   "outputs": [],
   "source": [
    "# Question b: Compute the probability that at least 3 of the 20 Internet browser users use Chrome as their Internet browser.\n",
    "\n"
   ]
  },
  {
   "cell_type": "code",
   "execution_count": 10,
   "metadata": {
    "collapsed": true
   },
   "outputs": [],
   "source": [
    "# Question c: for the sample of 20 Internet browser users, compute the expected number of Chrome users.\n",
    "\n"
   ]
  },
  {
   "cell_type": "code",
   "execution_count": 11,
   "metadata": {
    "collapsed": true
   },
   "outputs": [],
   "source": [
    "# Question d: for the sample of 20 Internet browser users, compute the variance and standard deviation for the number of Chrome users.\n",
    "\n"
   ]
  },
  {
   "cell_type": "markdown",
   "metadata": {},
   "source": [
    "### Problem 2 (Problem 51 on page 255)\n",
    "Over 500 million tweets are sent per day (digital Marketing ramblings website, December 15, 2014). Assume that the number of tweets per hour follows a Poisson dis- tribution and that Bob receives on average 7 tweets during his lunch hour. (5 points)"
   ]
  },
  {
   "cell_type": "code",
   "execution_count": 12,
   "metadata": {},
   "outputs": [],
   "source": [
    "# Question a: what is the probability that Bob receives no tweets during his lunch hour?\n",
    "\n"
   ]
  },
  {
   "cell_type": "code",
   "execution_count": 13,
   "metadata": {
    "collapsed": true
   },
   "outputs": [],
   "source": [
    "# Question b: what is the probability that Bob receives at least 4 tweets during his lunch hour?\n",
    "\n"
   ]
  },
  {
   "cell_type": "code",
   "execution_count": 14,
   "metadata": {
    "collapsed": true
   },
   "outputs": [],
   "source": [
    "# question c: what is the expected number of tweets Bob receives during the first 30 minutes of his lunch hour?\n",
    "\n",
    "\n"
   ]
  },
  {
   "cell_type": "code",
   "execution_count": 15,
   "metadata": {
    "collapsed": true
   },
   "outputs": [],
   "source": [
    "# question d: what is the probability that Bob receives no tweets during the first 30 minutes of his lunch hour?\n",
    "\n"
   ]
  },
  {
   "cell_type": "markdown",
   "metadata": {},
   "source": [
    "### Problem 3 (Problem 22 on page 287)\n",
    "Television viewing reached a new high when the Nielsen Company reported a mean daily viewing time of 8.35 hours per household (USa today, November 11, 2009). Use a nor­ mal probability distribution with a standard deviation of 2.5 hours to answer the following questions about daily television viewing per household. (5 points)"
   ]
  },
  {
   "cell_type": "code",
   "execution_count": 16,
   "metadata": {
    "scrolled": true
   },
   "outputs": [],
   "source": [
    "# question a: what is the probability that a household views television between 5 and 10 hours a day?\n",
    "\n"
   ]
  },
  {
   "cell_type": "code",
   "execution_count": 17,
   "metadata": {
    "collapsed": true
   },
   "outputs": [],
   "source": [
    "# question b: how many hours of television viewing must a household have in order to be in the top 3% of all television viewing households?\n",
    "\n",
    "\n",
    "\n"
   ]
  },
  {
   "cell_type": "code",
   "execution_count": 18,
   "metadata": {
    "collapsed": true
   },
   "outputs": [],
   "source": [
    "# question c: what is the probability that a household views television more than 3 hours a day?\n",
    "\n",
    "\n"
   ]
  },
  {
   "cell_type": "markdown",
   "metadata": {},
   "source": [
    "### Problem 4 (Problem 36 on page 294)\n",
    "Comcast Corporation is the largest cable television company, the second largest Internet service provider, and the fourth largest telephone service provider in the United States. Generally known for quality and reliable service, the company periodically experiences unexpected service interruptions. On January 14, 2014, such an interruption occurred for the Comcast customers living in southwest Florida. when customers called the Comcast office, a recorded message told them that the company was aware of the service outage and that it was anticipated that service would be restored in two hours. Assume that two hours is the mean time to do the repair and that the repair time has an exponential probability distribution. (5 points)"
   ]
  },
  {
   "cell_type": "code",
   "execution_count": 19,
   "metadata": {},
   "outputs": [],
   "source": [
    "# question a: what is the probability that the cable service will be repaired in one hour or less?\n",
    "\n",
    "\n"
   ]
  },
  {
   "cell_type": "code",
   "execution_count": 20,
   "metadata": {
    "collapsed": true
   },
   "outputs": [],
   "source": [
    "# question b: what is the probability that the repair will take between one hour and two hours?\n",
    "\n",
    "\n"
   ]
  },
  {
   "cell_type": "code",
   "execution_count": 21,
   "metadata": {
    "collapsed": true
   },
   "outputs": [],
   "source": [
    "# question c: For a customer who calls the Comcast office at 1:00 p.m., what is the probability that\n",
    "# the cable service will not be repaired by 5:00 p.m.?\n",
    "\n",
    "\n"
   ]
  }
 ],
 "metadata": {
  "anaconda-cloud": {},
  "kernelspec": {
   "display_name": "Python 3",
   "language": "python",
   "name": "python3"
  },
  "language_info": {
   "codemirror_mode": {
    "name": "ipython",
    "version": 3
   },
   "file_extension": ".py",
   "mimetype": "text/x-python",
   "name": "python",
   "nbconvert_exporter": "python",
   "pygments_lexer": "ipython3",
   "version": "3.6.4"
  }
 },
 "nbformat": 4,
 "nbformat_minor": 1
}
