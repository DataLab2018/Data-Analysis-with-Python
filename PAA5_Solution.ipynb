{
 "cells": [
  {
   "cell_type": "code",
   "execution_count": 7,
   "metadata": {
    "collapsed": true
   },
   "outputs": [],
   "source": [
    "from scipy.stats import binom, norm, t"
   ]
  },
  {
   "cell_type": "markdown",
   "metadata": {},
   "source": [
    "### Problem 1\n",
    "To test whether a coin is a fair coin, we decide to flip this coin n times (n = 10, 30, and 50, respectively) and count the numbers of Heads (H) and Tails (T) we observe. Let X be the number of Hs observed from n tosses and p be the actual probability of getting H from flipping this coin. If this is a fair coin, then p = .5. Suppose the significance level $\\alpha$ is .05. Here are the hypotheses:\n",
    "\n",
    "$H_0: p = .5$ (This is a fair coin)\n",
    "\n",
    "$H_a: p \\neq .5$ (This is a biased coin)\n",
    "\n",
    "For each of the following questions, write down one line of Python code to compute corresponding p-value. Ensure you use binom distribution instead of norm distribution."
   ]
  },
  {
   "cell_type": "code",
   "execution_count": 2,
   "metadata": {
    "collapsed": false
   },
   "outputs": [
    {
     "name": "stdout",
     "output_type": "stream",
     "text": [
      "0.109375 \n",
      "\n",
      "Accept H0 and conclude that this is a fair coin because the p-value is >= significance level.\n"
     ]
    }
   ],
   "source": [
    "# 1-a: Compute the p-value if we have observed 8 Ts out of 10 tosses and draw your conclusion whether this is a fair coin. (2 points) \n",
    "\n",
    "\n",
    "p = 2*(1-binom.cdf(7, 10, 0.5))\n",
    "print(p,'\\n')\n",
    "\n",
    "if p < 0.05:\n",
    "    print('Reject H0 and conclude that this is a biased coin because the p-value is less than significance level.')\n",
    "else:\n",
    "    print('Accept H0 and conclude that this is a fair coin because the p-value is >= significance level.')\n"
   ]
  },
  {
   "cell_type": "code",
   "execution_count": 4,
   "metadata": {
    "collapsed": false
   },
   "outputs": [
    {
     "name": "stdout",
     "output_type": "stream",
     "text": [
      "0.00143090635538 \n",
      "\n",
      "Reject H0 and conclude that this is a biased coin because the p-value is less than significance level.\n"
     ]
    }
   ],
   "source": [
    "# 1-b: Compute the p-value if we have observed 24 Ts out of 30 tosses and draw your conclusion whether this is a fair coin. (2 points) \n",
    "\n",
    "p = 2*(1-binom.cdf(23, 30, 0.5))\n",
    "print(p,'\\n')\n",
    "\n",
    "if p < 0.05:\n",
    "    print('Reject H0 and conclude that this is a biased coin because the p-value is less than significance level.')\n",
    "else:\n",
    "    print('Accept H0 and conclude that this is a fair coin because the p-value is >= significance level.')\n"
   ]
  },
  {
   "cell_type": "code",
   "execution_count": 6,
   "metadata": {
    "collapsed": false
   },
   "outputs": [
    {
     "name": "stdout",
     "output_type": "stream",
     "text": [
      "2.38613316768e-05 \n",
      "\n",
      "Reject H0 and conclude that this is a biased coin because the p-value is less than significance level.\n"
     ]
    }
   ],
   "source": [
    "# 1-c: Compute the p-value if we have observed 40 Ts and draw your conclusion whether this is a fair coin. (2 points) \n",
    "\n",
    "p = 2*(1-binom.cdf(39, 50, 0.5))\n",
    "print(p,'\\n')\n",
    "\n",
    "if p < 0.05:\n",
    "    print('Reject H0 and conclude that this is a biased coin because the p-value is less than significance level.')\n",
    "else:\n",
    "    print('Accept H0 and conclude that this is a fair coin because the p-value is >= significance level.')\n"
   ]
  },
  {
   "cell_type": "markdown",
   "metadata": {},
   "source": [
    "### Problem 2 (9-31, P413)\n",
    "The coca-cola company reported that the mean per capita annual sales of its beverages in the united States was 423 eight-ounce servings. Suppose you are curious whether the consumption of coca-cola beverages is higher in atlanta, georgia, the location of coca-cola’s corporate headquarters. A sample of 36 individuals from the atlanta area showed a sample mean annual consumption of 460.4 eight-ounce servings with a standard deviation of s = 101.9 eight-ounce servings. Using $\\alpha$ = .05, do the sample results support the conclusion that mean annual consumption of coca-cola beverage products is higher in atlanta?\n"
   ]
  },
  {
   "cell_type": "markdown",
   "metadata": {},
   "source": [
    "##### 2-a: In this Markdown cell, please clearly specify your hypotheses. (1 point)\n",
    "\n",
    "$H_0: \\mu <= 423$ \n",
    "\n",
    "$H_a: \\mu > 423$ "
   ]
  },
  {
   "cell_type": "code",
   "execution_count": 8,
   "metadata": {
    "collapsed": false
   },
   "outputs": [
    {
     "name": "stdout",
     "output_type": "stream",
     "text": [
      "2.202158979391559\n",
      "1.68957245396\n"
     ]
    }
   ],
   "source": [
    "# 2-b: Compute the value of the test statistic and the critical value of the test statistic. (2 points)\n",
    "\n",
    "xbar=460.4; mu_0=423; n=36; s=101.9; alpha=0.05\n",
    "\n",
    "print((460.4 - 423)/101.9*pow(36, 0.5))\n",
    "print(t.ppf(1-0.05, 36-1))"
   ]
  },
  {
   "cell_type": "code",
   "execution_count": 10,
   "metadata": {
    "collapsed": false
   },
   "outputs": [
    {
     "name": "stdout",
     "output_type": "stream",
     "text": [
      "0.0171673742785\n",
      "Reject H0 because the p-value is less than significance level.\n"
     ]
    }
   ],
   "source": [
    "# 2-c: Compute the corresponding p-value for the test. Draw your conclusion to the test. (2 points)\n",
    "\n",
    "p_val = 1 - t.cdf(2.202158979391559, 36-1)\n",
    "print(p_val)\n",
    "\n",
    "if p_val < 0.05:\n",
    "    print('Reject H0 because the p-value is less than significance level.')\n",
    "else:\n",
    "    print('Accept H0 because the p-value is >= significance level.')\n"
   ]
  },
  {
   "cell_type": "markdown",
   "metadata": {},
   "source": [
    "### Problem 3 (9-42, P418)\n",
    "According to the university of nevada center for logistics Management, 6% of all merchandise sold in the united States gets returned. A Houston department store sampled 80 items sold in January and found that 12 of the items were returned. Is the proportion of returns at the Houston store significantly different from the returns for the nation as a whole? Test the above by completing the following:\n",
    "\n",
    "a. Clearly state your null and alternative hypotheses. (1 pt)\n",
    "b. Use one line of Python code to compute the corresponding p-value. (1 pt)\n",
    "c. At a significance level of 5%, draw the conclusion to your hypothesis test. (1 pt)\n",
    "d. Construct a 95% confidence interval for the proportion of returns at the Houston store. (1 pt)"
   ]
  },
  {
   "cell_type": "code",
   "execution_count": 16,
   "metadata": {
    "collapsed": true
   },
   "outputs": [],
   "source": [
    "# 3-a: \n",
    "# H0: p = 0.06; Ha: p <> 0.06\n",
    "\n"
   ]
  },
  {
   "cell_type": "code",
   "execution_count": 12,
   "metadata": {
    "collapsed": false
   },
   "outputs": [
    {
     "name": "stdout",
     "output_type": "stream",
     "text": [
      "0.000699956709323\n",
      "Reject H0.\n"
     ]
    }
   ],
   "source": [
    "# 3-b and 3-c: \n",
    "\n",
    "p_val = 2*(1-norm.cdf((12/80-0.06)/pow(0.06*0.94/80,0.5)))\n",
    "\n",
    "print(p_val)\n",
    "\n",
    "if p_val < 0.05:\n",
    "    print('Reject H0.')\n",
    "else:\n",
    "    print('Accept H0.')\n"
   ]
  },
  {
   "cell_type": "code",
   "execution_count": 13,
   "metadata": {
    "collapsed": false
   },
   "outputs": [
    {
     "name": "stdout",
     "output_type": "stream",
     "text": [
      "95% confidence interval is [0.07175471263084746, 0.22824528736915253]\n"
     ]
    }
   ],
   "source": [
    "# 3-d: Construct a 95% confidence interval for the proportion of returns at the Houston store. \n",
    "\n",
    "print('95% confidence interval is [{0}, {1}]'.format(12/80-norm.ppf(0.975)*pow(12/80*(1-12/80)/80, 0.5), \\\n",
    "                                                     12/80+norm.ppf(0.975)*pow(12/80*(1-12/80)/80, 0.5)))"
   ]
  },
  {
   "cell_type": "markdown",
   "metadata": {},
   "source": [
    "### Problem 4 (9-49, P424)\n",
    "A consumer research group is interested in testing an automobile manufacturer’s claim that a new economy model will travel at least 25 miles per gallon of gasoline (h0: $\\mu$ >= 25)."
   ]
  },
  {
   "cell_type": "markdown",
   "metadata": {},
   "source": [
    "##### 4-a: With a .02 level of significance and a sample of 30 cars, what is the critical value of sample mean beyond which the manufacturer’s claim should be rejected? Assume that $\\sigma$ is 3 miles per gallon. Use one line of Python code to compute this critical value of sample mean. (2 points)"
   ]
  },
  {
   "cell_type": "code",
   "execution_count": 14,
   "metadata": {
    "collapsed": false
   },
   "outputs": [
    {
     "name": "stdout",
     "output_type": "stream",
     "text": [
      "23.8751153942\n",
      "This is a left-tailed test. We reject the null hypotheses if the observed xbar is lower than crital xbar.\n",
      "\n"
     ]
    }
   ],
   "source": [
    "crit_xbar = 25+norm.ppf(0.02)*3/(30**0.5)\n",
    "print(crit_xbar)\n",
    "print(\"This is a left-tailed test. We reject the null hypotheses if the observed xbar is lower than crital xbar.\\n\")"
   ]
  },
  {
   "cell_type": "code",
   "execution_count": 15,
   "metadata": {
    "collapsed": false
   },
   "outputs": [
    {
     "data": {
      "text/plain": [
       "0.055051004552249316"
      ]
     },
     "execution_count": 15,
     "metadata": {},
     "output_type": "execute_result"
    }
   ],
   "source": [
    "# 4-b: What is the probability of committing a type ii error if the actual mileage is 23 miles per gallon? (2 points)\n",
    "\n",
    "1-norm.cdf(23.8751153942, 23, 3/(30**0.5))"
   ]
  },
  {
   "cell_type": "markdown",
   "metadata": {},
   "source": [
    "### Problem 5\n",
    "Create a function named “compute_power_in_two_tailed_test”. (4 points)\n",
    "The function takes the following inputs: \n",
    "1. mu_b: a real number for population mean based on which we compute beta value and power; \n",
    "    * Recall that Type II error is accepting H0 when it is false.\n",
    "2. mu_h: a real number for hypothesized population mean in the original hypotheses; \n",
    "3. n: a positive integer for sample size; \n",
    "4. alpha: a real number between 0 and 1 for significance level\n",
    "5. sd: a positive real number for population or sample standard deviation; \n",
    "6. pop: a boolean indicating whether sd is population standard deviation or sample sd. The default is True.\n",
    "\n",
    "The function returns a real number between 0 and 1 for the power of the hypothesis test. \n",
    "* Note that the returned value is power, not beta."
   ]
  },
  {
   "cell_type": "code",
   "execution_count": 14,
   "metadata": {
    "collapsed": true
   },
   "outputs": [],
   "source": [
    "\n",
    "def compute_power_in_two_tailed_test(mu_b, mu_h, n, alpha, sd, pop=True):\n",
    "    from scipy.stats import norm, t\n",
    "    \n",
    "    # start your code below\n",
    "    if pop:\n",
    "        crit_z = norm.ppf(1 - alpha/2.) # upper critical z value only for two-tailed test\n",
    "        crit_Xbar1 = mu_h - crit_z*sd/pow(n, 0.5)\n",
    "        crit_Xbar2 = mu_h + crit_z*sd/pow(n, 0.5)\n",
    "        z1 = (crit_Xbar1 - mu_b)/sd*pow(n, 0.5)\n",
    "        z2 = (crit_Xbar2 - mu_b)/sd*pow(n, 0.5)\n",
    "        beta = norm.cdf(z2) - norm.cdf(z1)\n",
    "    else:\n",
    "        crit_z = t.ppf(1 - alpha/2., n-1)\n",
    "        crit_Xbar1 = mu_h - crit_z*sd/pow(n, 0.5)\n",
    "        crit_Xbar2 = mu_h + crit_z*sd/pow(n, 0.5)\n",
    "        z1 = (crit_Xbar1 - mu_b)/sd*pow(n, 0.5)\n",
    "        z2 = (crit_Xbar2 - mu_b)/sd*pow(n, 0.5)\n",
    "        beta = t.cdf(z2, n-1) - t.cdf(z1, n-1)\n",
    "    return 1 - beta"
   ]
  },
  {
   "cell_type": "code",
   "execution_count": 16,
   "metadata": {
    "collapsed": false
   },
   "outputs": [
    {
     "name": "stdout",
     "output_type": "stream",
     "text": [
      "0.910637011996\n",
      "0.928307656198\n"
     ]
    }
   ],
   "source": [
    "print(compute_power_in_two_tailed_test(16.5, 16, 30, 0.05, 0.8, False))\n",
    "print(compute_power_in_two_tailed_test(16.5, 16, 30, 0.05, 0.8))"
   ]
  },
  {
   "cell_type": "code",
   "execution_count": null,
   "metadata": {
    "collapsed": true
   },
   "outputs": [],
   "source": []
  }
 ],
 "metadata": {
  "anaconda-cloud": {},
  "kernelspec": {
   "display_name": "Python [default]",
   "language": "python",
   "name": "python3"
  },
  "language_info": {
   "codemirror_mode": {
    "name": "ipython",
    "version": 3
   },
   "file_extension": ".py",
   "mimetype": "text/x-python",
   "name": "python",
   "nbconvert_exporter": "python",
   "pygments_lexer": "ipython3",
   "version": "3.5.2"
  }
 },
 "nbformat": 4,
 "nbformat_minor": 1
}
